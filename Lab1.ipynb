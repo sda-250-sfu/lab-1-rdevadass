{
 "cells": [
  {
   "cell_type": "code",
   "execution_count": 4,
   "metadata": {},
   "outputs": [
    {
     "name": "stdout",
     "output_type": "stream",
     "text": [
      "Welcome to SDA 250!\n",
      "Using the 'insert' tab add a code block and change its type to \"markdown\" using the drop-down bar.\n",
      "In that markdown block write a short introduction about why you are taking this course.\n",
      "Don't forget to add your name at the top as a header.\n",
      "Also add a bullet list of the top 3 skills you want to learn in this course.\n"
     ]
    }
   ],
   "source": [
    "print(\"Welcome to SDA 250!\")\n",
    "print(\"Using the 'insert' tab add a code block and change its type to \\\"markdown\\\" using the drop-down bar.\")\n",
    "print(\"In that markdown block write a short introduction about why you are taking this course.\")\n",
    "print(\"Don't forget to add your name at the top as a header.\")\n",
    "print(\"Also add a bullet list of the top 3 skills you want to learn in this course.\")"
   ]
  },
  {
   "cell_type": "markdown",
   "metadata": {},
   "source": [
    "# Ruth Devadass"
   ]
  },
  {
   "cell_type": "markdown",
   "metadata": {},
   "source": [
    "I'm taking this course for ling credits, but also because I think that it'll be helpful in the area that I want to pursue, particularly the revitalizing of dying languages, or translation."
   ]
  },
  {
   "cell_type": "markdown",
   "metadata": {},
   "source": [
    "- I want to learn more about coding because it would be nice to expand my skillset\n",
    "- I want to be able to apply the skills that I learn to my major (linguistics)\n",
    "- I want to be able to understand how to retrieve data sets from code."
   ]
  },
  {
   "cell_type": "code",
   "execution_count": 5,
   "metadata": {},
   "outputs": [
    {
     "name": "stdout",
     "output_type": "stream",
     "text": [
      "I have 0 experience with programming.\n"
     ]
    }
   ],
   "source": [
    "print(\"I have 0 experience with programming.\")"
   ]
  },
  {
   "cell_type": "code",
   "execution_count": 7,
   "metadata": {},
   "outputs": [
    {
     "name": "stdout",
     "output_type": "stream",
     "text": [
      "sam\n",
      "21\n",
      "name\n",
      "age\n"
     ]
    }
   ],
   "source": [
    "name = \"sam\"\n",
    "age = 21\n",
    "\n",
    "print(name)\n",
    "print(age)\n",
    "\n",
    "# if we put quotation makers around the variable name it will just print the name of the variable\n",
    "print(\"name\")\n",
    "print(\"age\")"
   ]
  },
  {
   "cell_type": "code",
   "execution_count": 14,
   "metadata": {},
   "outputs": [
    {
     "name": "stdout",
     "output_type": "stream",
     "text": [
      "Platypus\n",
      "Animalia\n",
      "Chordata\n",
      "Monotremata\n",
      "Ornithorhynchidae\n",
      "Ornithorhynchus\n",
      "O. anatinus\n",
      "animal\n",
      "kingdom\n",
      "phylum\n",
      "order\n",
      "family\n",
      "genus\n",
      "species\n"
     ]
    }
   ],
   "source": [
    "animal = \"Platypus\"\n",
    "kingdom = \"Animalia\"\n",
    "phylum = \"Chordata\"\n",
    "order = \"Monotremata\"\n",
    "family = \"Ornithorhynchidae\"\n",
    "genus = \"Ornithorhynchus\"\n",
    "species = \"O. anatinus\"\n",
    "# this information was retrieved from https://en.wikipedia.org/wiki/Platypus\n",
    "\n",
    "print(animal)\n",
    "# this should print \"platypus\"\n",
    "print(kingdom)\n",
    "# this should print \"Animalia\"\n",
    "print(phylum)\n",
    "# this should print \"Chordata\"\n",
    "print(order)\n",
    "# this should print \"Monotremata\"\n",
    "print(family)\n",
    "# this should print \"Ornithorhynchidae\"\n",
    "print(genus)\n",
    "# this should print \"Ornithorhyunchus\"\n",
    "print(species)\n",
    "# this should print \"O. anatinus\"\n",
    "\n",
    "\n",
    "print(\"animal\")\n",
    "# this will print \"animal\"\n",
    "print(\"kingdom\")\n",
    "# this will print \"kingdom\"\n",
    "print(\"phylum\")\n",
    "# this will print \"phylum\"\n",
    "print(\"order\")\n",
    "# this will print \"order\"\n",
    "print(\"family\")\n",
    "# this will print \"family\"\n",
    "print(\"genus\")\n",
    "# this will print \"genus\"\n",
    "print(\"species\") \n",
    "# this will print \"species\""
   ]
  },
  {
   "cell_type": "code",
   "execution_count": 10,
   "metadata": {},
   "outputs": [
    {
     "name": "stdout",
     "output_type": "stream",
     "text": [
      "3\n"
     ]
    }
   ],
   "source": [
    "# this will print 3\n",
    "print(1+2)"
   ]
  },
  {
   "cell_type": "code",
   "execution_count": 11,
   "metadata": {},
   "outputs": [
    {
     "name": "stdout",
     "output_type": "stream",
     "text": [
      "12\n"
     ]
    }
   ],
   "source": [
    "#this will print 12\n",
    "print(3*4)"
   ]
  },
  {
   "cell_type": "code",
   "execution_count": 12,
   "metadata": {},
   "outputs": [
    {
     "name": "stdout",
     "output_type": "stream",
     "text": [
      "5\n"
     ]
    }
   ],
   "source": [
    "x = 10\n",
    "y = 5\n",
    "\n",
    "# this will print 5\n",
    "print(x - y)"
   ]
  },
  {
   "cell_type": "code",
   "execution_count": 13,
   "metadata": {},
   "outputs": [
    {
     "name": "stdout",
     "output_type": "stream",
     "text": [
      "15\n",
      "number2\n",
      "5.0\n"
     ]
    }
   ],
   "source": [
    "number1 = 15\n",
    "number2 = 3\n",
    "result = number1 / number2\n",
    "\n",
    "# this will print 15\n",
    "print(number1)\n",
    "\n",
    "# this will print \"number2\"\n",
    "print(\"number2\")\n",
    "\n",
    "# this will print 5\n",
    "print(result)"
   ]
  },
  {
   "cell_type": "code",
   "execution_count": 15,
   "metadata": {},
   "outputs": [
    {
     "name": "stdout",
     "output_type": "stream",
     "text": [
      "TaylorWilliams\n"
     ]
    }
   ],
   "source": [
    "firstName = \"Taylor\"\n",
    "lastName = \"Williams\"\n",
    "fullName = firstName + lastName\n",
    "\n",
    "#this will print \"Taylor Williams\"\n",
    "print(fullName)"
   ]
  },
  {
   "cell_type": "code",
   "execution_count": 16,
   "metadata": {},
   "outputs": [
    {
     "name": "stdout",
     "output_type": "stream",
     "text": [
      "Taylor Williams\n",
      "Taylor Williams\n"
     ]
    }
   ],
   "source": [
    "fullName = firstName + \" \" + lastName\n",
    "\n",
    "# this will print the correct full name\n",
    "print(fullName)\n",
    "\n",
    "# you could also add the space in the print statement itself\n",
    "print(firstName + \" \" + lastName)"
   ]
  },
  {
   "cell_type": "code",
   "execution_count": 70,
   "metadata": {},
   "outputs": [
    {
     "name": "stdout",
     "output_type": "stream",
     "text": [
      "Grace Devadass\n",
      "Ruth (she/her)\n",
      "My favourite number is 0\n",
      "70\n",
      "705\n",
      "94.0\n",
      "47\n"
     ]
    }
   ],
   "source": [
    "firstName = \"Grace\"\n",
    "lastName = \"Devadass\"\n",
    "preferredName = \"Ruth\"\n",
    "pronouns = \"she/her\"\n",
    "bparenthesis = \"(\"\n",
    "eparenthesis = \")\"\n",
    "favouritenumber = \"My favourite number is\"\n",
    "x = 0\n",
    "# for the sake of this execise, I'll use a separate number for operations\n",
    "x1 = 47\n",
    "\n",
    "print(firstName + \" \" + lastName)\n",
    "print(preferredName+ \" \" + bparenthesis + pronouns + eparenthesis)\n",
    "print(favouritenumber, x)\n",
    "\n",
    "print(x1+23)\n",
    "print(x1*15)\n",
    "print(x1/0.5)\n",
    "print(x1-x)"
   ]
  },
  {
   "cell_type": "code",
   "execution_count": 9,
   "metadata": {},
   "outputs": [
    {
     "name": "stdout",
     "output_type": "stream",
     "text": [
      "It's natural to attribute a large aspect of ethics in regards to data with the concept of consent. Particularly with Big Data, the assumption that there is minimal interference or affecting of lives is not necessarily always true. Presuming that the consent of every individual whose information is part of the pertinent dataset is freely given and free to be utilized is a breach of trust. In the case where the data of an individual who has not explicitly consented to participate in research or investigation is used, good faith in the party that initiates the studying is drastically reduced, which could potentially hamper the successes of future endeavours. It is important to understand the boundaries of accessing data, particularly semi-private and private, although the line between what is acceptable and what is not, is not always so clearly defined.\n",
      "Another grey area of ethical data research and acquisition would be in regards to privacy. Particularly on social media platforms, when someone sets their profule to 'private', what defines it as private? Surely that must mean that they expect the platform to keep their information private. And yet, if the platform has free access of this privatized data, and uses it for research purposes, that would be an invasion of privacy. When taking into consideration the purpose for doing data research, would using this privatized or even semi-privatized data truly be justifiable? Again this likely draws back to the issue of consent, but it's not unreasonable to presume that, in setting SNS accounts to private, that there is no consent to use data. Therefore using such data regardless would be unethical.\n"
     ]
    }
   ],
   "source": [
    "print(\"It's natural to attribute a large aspect of ethics in regards to data with the concept of consent. Particularly with Big Data, the assumption that there is minimal interference or affecting of lives is not necessarily always true. Presuming that the consent of every individual whose information is part of the pertinent dataset is freely given and free to be utilized is a breach of trust. In the case where the data of an individual who has not explicitly consented to participate in research or investigation is used, good faith in the party that initiates the studying is drastically reduced, which could potentially hamper the successes of future endeavours. It is important to understand the boundaries of accessing data, particularly semi-private and private, although the line between what is acceptable and what is not, is not always so clearly defined.\")\n",
    "print(\"Another grey area of ethical data research and acquisition would be in regards to privacy. Particularly on social media platforms, when someone sets their profule to 'private', what defines it as private? Surely that must mean that they expect the platform to keep their information private. And yet, if the platform has free access of this privatized data, and uses it for research purposes, that would be an invasion of privacy. When taking into consideration the purpose for doing data research, would using this privatized or even semi-privatized data truly be justifiable? Again this likely draws back to the issue of consent, but it's not unreasonable to presume that, in setting SNS accounts to private, that there is no consent to use data. Therefore using such data regardless would be unethical.\")"
   ]
  },
  {
   "cell_type": "code",
   "execution_count": null,
   "metadata": {},
   "outputs": [],
   "source": []
  }
 ],
 "metadata": {
  "kernelspec": {
   "display_name": "Python 3",
   "language": "python",
   "name": "python3"
  },
  "language_info": {
   "codemirror_mode": {
    "name": "ipython",
    "version": 3
   },
   "file_extension": ".py",
   "mimetype": "text/x-python",
   "name": "python",
   "nbconvert_exporter": "python",
   "pygments_lexer": "ipython3",
   "version": "3.8.5"
  }
 },
 "nbformat": 4,
 "nbformat_minor": 4
}
